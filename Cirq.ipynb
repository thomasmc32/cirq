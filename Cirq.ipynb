{
  "nbformat": 4,
  "nbformat_minor": 0,
  "metadata": {
    "colab": {
      "provenance": [],
      "authorship_tag": "ABX9TyM9yXPY3cPH8xao7uNC9yj/",
      "include_colab_link": true
    },
    "kernelspec": {
      "name": "python3",
      "display_name": "Python 3"
    },
    "language_info": {
      "name": "python"
    }
  },
  "cells": [
    {
      "cell_type": "markdown",
      "metadata": {
        "id": "view-in-github",
        "colab_type": "text"
      },
      "source": [
        "<a href=\"https://colab.research.google.com/github/thomasmc32/cirq/blob/main/Cirq.ipynb\" target=\"_parent\"><img src=\"https://colab.research.google.com/assets/colab-badge.svg\" alt=\"Open In Colab\"/></a>"
      ]
    },
    {
      "cell_type": "code",
      "source": [
        "!pip install qiskit qiskit-aer cirq --quiet\n",
        "import cirq\n",
        "import time\n",
        "start_cirq = time.time()\n",
        "\n",
        "qubit = cirq.GridQubit(0, 0)\n",
        "circuit = cirq.Circuit(\n",
        "    cirq.X(qubit)**0.5,  # Square root of NOT gate (superposition)\n",
        "    cirq.measure(qubit, key='m')\n",
        ")\n",
        "\n",
        "simulator = cirq.Simulator()\n",
        "result = simulator.run(circuit, repetitions=20)\n",
        "\n",
        "measurements = result.measurements['m'].flatten()\n",
        "random_bits_cirq = ''.join(map(str, measurements))\n",
        "random_number_cirq = int(random_bits_cirq, 2)\n",
        "\n",
        "end_cirq = time.time()\n",
        "\n",
        "print(\"-- Cirq QRNG --\")\n",
        "print(\"Circuit:\", circuit)\n",
        "print(\"Results:\")\n",
        "print(\"-Random bits:\", random_bits_cirq)\n",
        "print(\"-Random number:\", random_number_cirq)\n",
        "print(f\"-Execution time: {end_cirq - start_cirq:.5f} seconds\\n\")"
      ],
      "metadata": {
        "colab": {
          "base_uri": "https://localhost:8080/"
        },
        "id": "04i1gKCvgHlj",
        "outputId": "e6b6b4f4-1ad5-4bfe-d12c-bf74c4b734d6"
      },
      "execution_count": null,
      "outputs": [
        {
          "output_type": "stream",
          "name": "stdout",
          "text": [
            "-- Cirq QRNG --\n",
            "Circuit: (0, 0): ───X^0.5───M('m')───\n",
            "Results:\n",
            "-Random bits: 00100111001111110001\n",
            "-Random number: 160753\n",
            "-Execution time: 0.00306 seconds\n",
            "\n"
          ]
        }
      ]
    }
  ]
}